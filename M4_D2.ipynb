{
 "cells": [
  {
   "cell_type": "code",
   "execution_count": 1,
   "id": "44a052d0-aa27-4acf-b2b4-8477a238316a",
   "metadata": {},
   "outputs": [],
   "source": [
    "# 1"
   ]
  },
  {
   "cell_type": "code",
   "execution_count": 12,
   "id": "da1de521-1619-4325-ab16-b10d1a791f6b",
   "metadata": {},
   "outputs": [],
   "source": [
    "nomeScuola='Epicode'"
   ]
  },
  {
   "cell_type": "code",
   "execution_count": 13,
   "id": "3fd7688e-9216-4135-9449-053c8659659d",
   "metadata": {},
   "outputs": [
    {
     "data": {
      "text/plain": [
       "'Epicode'"
      ]
     },
     "execution_count": 13,
     "metadata": {},
     "output_type": "execute_result"
    }
   ],
   "source": [
    "nomeScuola"
   ]
  },
  {
   "cell_type": "code",
   "execution_count": 33,
   "id": "c898c94c-ba0e-43fe-9fcf-5eb3e9acc5c3",
   "metadata": {},
   "outputs": [
    {
     "data": {
      "text/plain": [
       "'E'"
      ]
     },
     "execution_count": 33,
     "metadata": {},
     "output_type": "execute_result"
    }
   ],
   "source": [
    "nomeScuola[0] # 2"
   ]
  },
  {
   "cell_type": "code",
   "execution_count": 34,
   "id": "d44bdb06-78d9-44c7-be13-8b096ec8e7eb",
   "metadata": {},
   "outputs": [
    {
     "data": {
      "text/plain": [
       "'Epi'"
      ]
     },
     "execution_count": 34,
     "metadata": {},
     "output_type": "execute_result"
    }
   ],
   "source": [
    "nomeScuola [:3] # 3"
   ]
  },
  {
   "cell_type": "code",
   "execution_count": 35,
   "id": "2312f8dd-2cf6-453c-9cbd-868b7223cbe5",
   "metadata": {},
   "outputs": [
    {
     "data": {
      "text/plain": [
       "'EPICODE'"
      ]
     },
     "execution_count": 35,
     "metadata": {},
     "output_type": "execute_result"
    }
   ],
   "source": [
    "nomeScuola.upper() # 4"
   ]
  },
  {
   "cell_type": "code",
   "execution_count": 36,
   "id": "30d64cfd-8819-4522-850e-cf96283d81bd",
   "metadata": {},
   "outputs": [],
   "source": [
    "x=10 #5"
   ]
  },
  {
   "cell_type": "code",
   "execution_count": 37,
   "id": "b651051c-8c3a-4339-b55c-485a8de06f46",
   "metadata": {},
   "outputs": [],
   "source": [
    "x +=2"
   ]
  },
  {
   "cell_type": "code",
   "execution_count": 38,
   "id": "3e29edba-e091-475d-91bf-ffd481c81a7a",
   "metadata": {},
   "outputs": [],
   "source": [
    "x=(x*3)"
   ]
  },
  {
   "cell_type": "code",
   "execution_count": 39,
   "id": "164d836c-e8ac-4db3-98b5-636fcffad83b",
   "metadata": {},
   "outputs": [
    {
     "name": "stdout",
     "output_type": "stream",
     "text": [
      "36\n"
     ]
    }
   ],
   "source": [
    "print (x)"
   ]
  },
  {
   "cell_type": "code",
   "execution_count": 41,
   "id": "3d8eddcb-6bbb-405a-af5e-985f8922e8a0",
   "metadata": {},
   "outputs": [
    {
     "name": "stdin",
     "output_type": "stream",
     "text": [
      "Quanti litri di benzina ci sono nel serbatoio? 40\n"
     ]
    }
   ],
   "source": [
    "benzina_serbatoio=int(input('Quanti litri di benzina ci sono nel serbatoio?')) #6"
   ]
  },
  {
   "cell_type": "code",
   "execution_count": 24,
   "id": "e74005fe-cf5a-4536-8b6a-e24e81a910b2",
   "metadata": {},
   "outputs": [
    {
     "name": "stdin",
     "output_type": "stream",
     "text": [
      "Qual è l'efficienza in km per litro? 12\n"
     ]
    }
   ],
   "source": [
    "efficienza=int(input(\"Qual è l'efficienza in km per litro?\"))"
   ]
  },
  {
   "cell_type": "code",
   "execution_count": 25,
   "id": "2d27b770-92d0-457a-b860-85a3a91e5bb5",
   "metadata": {},
   "outputs": [
    {
     "name": "stdin",
     "output_type": "stream",
     "text": [
      "Qual è il prezzo della benzina per litro? 2\n"
     ]
    }
   ],
   "source": [
    "PrezzoBenzina= int(input('Qual è il prezzo della benzina per litro?'))"
   ]
  },
  {
   "cell_type": "code",
   "execution_count": 26,
   "id": "9776bfd1-8c22-4557-b051-91321d451c94",
   "metadata": {},
   "outputs": [],
   "source": [
    "distanza=100"
   ]
  },
  {
   "cell_type": "code",
   "execution_count": 27,
   "id": "d26c155e-4431-432e-abf9-2bdd873bb6c9",
   "metadata": {},
   "outputs": [],
   "source": [
    "consumo=distanza/efficienza"
   ]
  },
  {
   "cell_type": "code",
   "execution_count": 28,
   "id": "1fddc577-da40-406d-bb58-360f25617e1f",
   "metadata": {},
   "outputs": [],
   "source": [
    "costo=(consumo*PrezzoBenzina)"
   ]
  },
  {
   "cell_type": "code",
   "execution_count": 29,
   "id": "46be31ce-5626-4bd8-bce8-33e176b514de",
   "metadata": {},
   "outputs": [
    {
     "name": "stdout",
     "output_type": "stream",
     "text": [
      "il costo per 100 km dovrebbe essere: 16.666666666666668\n"
     ]
    }
   ],
   "source": [
    "print(\"il costo per 100 km dovrebbe essere:\", costo)"
   ]
  },
  {
   "cell_type": "code",
   "execution_count": 42,
   "id": "18f406f7-cc79-4934-bb82-bcf445301e5b",
   "metadata": {},
   "outputs": [
    {
     "name": "stdin",
     "output_type": "stream",
     "text": [
      "inserisci una stringa maglietta\n"
     ]
    }
   ],
   "source": [
    "Utente=input(\"inserisci una stringa\") #7"
   ]
  },
  {
   "cell_type": "code",
   "execution_count": 43,
   "id": "8b20c0ce-f792-4182-95d1-f9a8d184f29f",
   "metadata": {},
   "outputs": [],
   "source": [
    "output=Utente[:3]+\"...\"+Utente[6:]"
   ]
  },
  {
   "cell_type": "code",
   "execution_count": 44,
   "id": "f5689374-ebc5-4c96-a3a0-5a5cfef875fc",
   "metadata": {},
   "outputs": [
    {
     "name": "stdout",
     "output_type": "stream",
     "text": [
      "mag...tta\n"
     ]
    }
   ],
   "source": [
    "print(output)"
   ]
  },
  {
   "cell_type": "code",
   "execution_count": 45,
   "id": "773dcb31-94d3-43e3-a875-fc0f0b9073ca",
   "metadata": {},
   "outputs": [],
   "source": [
    "#8"
   ]
  },
  {
   "cell_type": "code",
   "execution_count": 46,
   "id": "6b0b9933-0592-4656-a074-d4956e15c347",
   "metadata": {},
   "outputs": [],
   "source": [
    "stringa1=\"Epicode\"\n",
    "stringa2=\"Windows\"\n",
    "stringa3=\"Excel\"\n",
    "stringa4=\"Powerpoint\"\n",
    "stringa5=\"Word\""
   ]
  },
  {
   "cell_type": "code",
   "execution_count": 47,
   "id": "05224504-574b-4e67-8b78-e219ce52e1aa",
   "metadata": {},
   "outputs": [],
   "source": [
    "len1= len(stringa1)\n",
    "len2= len(stringa2)\n",
    "len3= len(stringa3)\n",
    "len4= len(stringa4)\n",
    "len5= len(stringa5)"
   ]
  },
  {
   "cell_type": "code",
   "execution_count": 48,
   "id": "b544ed41-d741-49c9-a5a6-a6d94eaf9152",
   "metadata": {},
   "outputs": [
    {
     "name": "stdout",
     "output_type": "stream",
     "text": [
      "7\n",
      "7\n",
      "5\n",
      "10\n",
      "4\n"
     ]
    }
   ],
   "source": [
    "print (len1)\n",
    "print (len2)\n",
    "print (len3)\n",
    "print (len4)\n",
    "print (len5)"
   ]
  },
  {
   "cell_type": "code",
   "execution_count": null,
   "id": "7dd8232e-99f2-44d3-a9f4-d22dab1dac54",
   "metadata": {},
   "outputs": [],
   "source": []
  },
  {
   "cell_type": "code",
   "execution_count": null,
   "id": "6028393f-f653-4bd2-b39e-d488b5349190",
   "metadata": {},
   "outputs": [],
   "source": [
    "#9"
   ]
  },
  {
   "cell_type": "code",
   "execution_count": 49,
   "id": "62985254-2b6c-42d0-94e4-d5bd4be4e0fc",
   "metadata": {},
   "outputs": [],
   "source": [
    "codici=[\"knt-S1\", \"cba-G9\", \"qtr-Z8\"]"
   ]
  },
  {
   "cell_type": "code",
   "execution_count": null,
   "id": "eae25a1a-bad5-4643-9f0f-1f945b3b7470",
   "metadata": {},
   "outputs": [],
   "source": []
  },
  {
   "cell_type": "code",
   "execution_count": 60,
   "id": "d9088300-816f-4243-9e97-f5f4ca060a6e",
   "metadata": {},
   "outputs": [],
   "source": [
    "a=codici [0]\n",
    "b=codici[1]\n",
    "c=codici[2]"
   ]
  },
  {
   "cell_type": "code",
   "execution_count": 62,
   "id": "768b19c2-89c5-4664-8423-512e90f3118f",
   "metadata": {},
   "outputs": [
    {
     "data": {
      "text/plain": [
       "'-S1'"
      ]
     },
     "execution_count": 62,
     "metadata": {},
     "output_type": "execute_result"
    }
   ],
   "source": [
    "a [3:]"
   ]
  },
  {
   "cell_type": "markdown",
   "id": "68a793b2-11c7-40c2-a6f3-6e3a2b4cbadd",
   "metadata": {
    "tags": []
   },
   "source": [
    "### "
   ]
  },
  {
   "cell_type": "code",
   "execution_count": 63,
   "id": "3b4a2b81-43fc-4372-adba-f9a6401afb83",
   "metadata": {},
   "outputs": [
    {
     "data": {
      "text/plain": [
       "'-G9'"
      ]
     },
     "execution_count": 63,
     "metadata": {},
     "output_type": "execute_result"
    }
   ],
   "source": [
    "b [3:]"
   ]
  },
  {
   "cell_type": "code",
   "execution_count": 64,
   "id": "86201464-8a7e-48b4-9bf5-3c86cc374949",
   "metadata": {},
   "outputs": [
    {
     "data": {
      "text/plain": [
       "'-Z8'"
      ]
     },
     "execution_count": 64,
     "metadata": {},
     "output_type": "execute_result"
    }
   ],
   "source": [
    "c [3:]"
   ]
  },
  {
   "cell_type": "code",
   "execution_count": 65,
   "id": "2cf76538-2ee8-43db-b2e2-dbb45c4630ff",
   "metadata": {},
   "outputs": [],
   "source": [
    "x=a [3:]\n",
    "y=b [3:]\n",
    "z=c [3:]"
   ]
  },
  {
   "cell_type": "code",
   "execution_count": null,
   "id": "f4600ca8-06f6-4285-8eb8-9557f2db3508",
   "metadata": {},
   "outputs": [],
   "source": []
  },
  {
   "cell_type": "code",
   "execution_count": 66,
   "id": "6f2b4a27-e956-4152-a4ce-032336cb14ae",
   "metadata": {},
   "outputs": [
    {
     "name": "stdout",
     "output_type": "stream",
     "text": [
      "-S1 -G9 -Z8\n"
     ]
    }
   ],
   "source": [
    "print(x,y,z)"
   ]
  },
  {
   "cell_type": "code",
   "execution_count": null,
   "id": "1bd79f6f-4603-4e13-9bcc-dfec9eb76dd7",
   "metadata": {},
   "outputs": [],
   "source": []
  }
 ],
 "metadata": {
  "kernelspec": {
   "display_name": "Python 3 (ipykernel)",
   "language": "python",
   "name": "python3"
  },
  "language_info": {
   "codemirror_mode": {
    "name": "ipython",
    "version": 3
   },
   "file_extension": ".py",
   "mimetype": "text/x-python",
   "name": "python",
   "nbconvert_exporter": "python",
   "pygments_lexer": "ipython3",
   "version": "3.10.9"
  }
 },
 "nbformat": 4,
 "nbformat_minor": 5
}
