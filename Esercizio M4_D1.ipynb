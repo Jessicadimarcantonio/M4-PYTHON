{
 "cells": [
  {
   "cell_type": "code",
   "execution_count": 1,
   "id": "ae931e27-5910-4fba-9e40-fb90be77de91",
   "metadata": {},
   "outputs": [],
   "source": [
    "Studenti=25"
   ]
  },
  {
   "cell_type": "code",
   "execution_count": 2,
   "id": "10b73ed6-0fc7-4aae-93a4-e15bc3383d7c",
   "metadata": {},
   "outputs": [
    {
     "name": "stdout",
     "output_type": "stream",
     "text": [
      "25\n"
     ]
    }
   ],
   "source": [
    "print (Studenti)"
   ]
  },
  {
   "cell_type": "code",
   "execution_count": 3,
   "id": "43da04fe-df0f-4786-9393-242c564751ca",
   "metadata": {},
   "outputs": [],
   "source": [
    "Studenti2=3"
   ]
  },
  {
   "cell_type": "code",
   "execution_count": 5,
   "id": "b886947f-0b82-4fa6-9922-a53c951e3992",
   "metadata": {},
   "outputs": [
    {
     "name": "stdout",
     "output_type": "stream",
     "text": [
      "3\n"
     ]
    }
   ],
   "source": [
    "print (Studenti2)"
   ]
  },
  {
   "cell_type": "code",
   "execution_count": 12,
   "id": "ea3b41b0-96bc-43ec-b23f-07f99ea88cbb",
   "metadata": {},
   "outputs": [],
   "source": [
    "TotStudenti = Studenti + Studenti2"
   ]
  },
  {
   "cell_type": "code",
   "execution_count": 14,
   "id": "f24e0fc0-2647-43ef-9881-5e42b11644ef",
   "metadata": {},
   "outputs": [
    {
     "name": "stdout",
     "output_type": "stream",
     "text": [
      "28\n"
     ]
    }
   ],
   "source": [
    "print (TotStudenti)"
   ]
  },
  {
   "cell_type": "code",
   "execution_count": 15,
   "id": "ef218ef6-efc9-4b59-bc72-187985aee6f1",
   "metadata": {},
   "outputs": [],
   "source": [
    "x= [0,1,2,3,4,5,]"
   ]
  },
  {
   "cell_type": "code",
   "execution_count": 16,
   "id": "876c00fe-08ed-41f7-ab85-20eac6ec2d89",
   "metadata": {},
   "outputs": [
    {
     "name": "stdout",
     "output_type": "stream",
     "text": [
      "[0, 1, 2, 3, 4, 5]\n"
     ]
    }
   ],
   "source": [
    "print (x)"
   ]
  },
  {
   "cell_type": "code",
   "execution_count": 28,
   "id": "cbad4928-9d14-423d-8901-84d61844da6b",
   "metadata": {},
   "outputs": [],
   "source": [
    "film=[\"shutter island\", \"inception\", \"the wolf of wall street\"]"
   ]
  },
  {
   "cell_type": "code",
   "execution_count": 30,
   "id": "929c2308-cbda-4a1c-a10f-ff4b9fc0b41c",
   "metadata": {},
   "outputs": [
    {
     "name": "stdout",
     "output_type": "stream",
     "text": [
      "['shutter island', 'inception', 'the wolf of wall street']\n"
     ]
    }
   ],
   "source": [
    "print (film)"
   ]
  }
 ],
 "metadata": {
  "kernelspec": {
   "display_name": "Python 3 (ipykernel)",
   "language": "python",
   "name": "python3"
  },
  "language_info": {
   "codemirror_mode": {
    "name": "ipython",
    "version": 3
   },
   "file_extension": ".py",
   "mimetype": "text/x-python",
   "name": "python",
   "nbconvert_exporter": "python",
   "pygments_lexer": "ipython3",
   "version": "3.10.9"
  }
 },
 "nbformat": 4,
 "nbformat_minor": 5
}
