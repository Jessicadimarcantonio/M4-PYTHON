{
 "cells": [
  {
   "cell_type": "code",
   "execution_count": 2,
   "id": "62838be3-1028-4dff-a0dd-b8b3e3fe0ee4",
   "metadata": {},
   "outputs": [
    {
     "name": "stdout",
     "output_type": "stream",
     "text": [
      "E\n",
      "p\n",
      "i\n",
      "c\n",
      "o\n",
      "d\n",
      "e\n"
     ]
    }
   ],
   "source": [
    "#1\n",
    "nome_scuola= \"Epicode\"\n",
    "index=0\n",
    "while index<7:\n",
    "    print(nome_scuola[index])\n",
    "    index +=1"
   ]
  },
  {
   "cell_type": "code",
   "execution_count": 4,
   "id": "9906a995-93a4-4708-83ac-3d275a7bc8cb",
   "metadata": {},
   "outputs": [
    {
     "name": "stdout",
     "output_type": "stream",
     "text": [
      "0\n",
      "1\n",
      "2\n",
      "3\n",
      "4\n",
      "5\n",
      "6\n",
      "7\n",
      "8\n",
      "9\n",
      "10\n",
      "11\n",
      "12\n",
      "13\n",
      "14\n",
      "15\n",
      "16\n",
      "17\n",
      "18\n",
      "19\n",
      "20\n"
     ]
    }
   ],
   "source": [
    "#2\n",
    "num=0\n",
    "while num<21:\n",
    "    print(num)\n",
    "    num +=1"
   ]
  },
  {
   "cell_type": "code",
   "execution_count": 14,
   "id": "5cf8d522-dea5-4091-ba9f-d85596b26425",
   "metadata": {},
   "outputs": [
    {
     "name": "stdout",
     "output_type": "stream",
     "text": [
      "2^0=1\n",
      "2^1=2\n",
      "2^2=4\n",
      "2^3=8\n",
      "2^4=16\n",
      "2^5=32\n",
      "2^6=64\n",
      "2^7=128\n",
      "2^8=256\n",
      "2^9=512\n"
     ]
    }
   ],
   "source": [
    "#3\n",
    "esponente =0\n",
    "while esponente < 10:\n",
    "    print (f\"2^{esponente}={2**esponente}\")\n",
    "    esponente += 1"
   ]
  },
  {
   "cell_type": "code",
   "execution_count": 13,
   "id": "65184e6a-8822-49c2-9002-d067a53f32d2",
   "metadata": {},
   "outputs": [
    {
     "name": "stdout",
     "output_type": "stream",
     "text": [
      "1\n",
      "2\n",
      "4\n",
      "8\n",
      "16\n",
      "32\n",
      "64\n",
      "128\n",
      "256\n",
      "512\n"
     ]
    }
   ],
   "source": [
    "#3 oppure\n",
    "i=0\n",
    "while i<10:\n",
    "    print(2**i)\n",
    "    i+=1\n",
    "del i"
   ]
  },
  {
   "cell_type": "code",
   "execution_count": 6,
   "id": "a0bfd81b-4e59-4123-8b80-3c59e5dfe709",
   "metadata": {},
   "outputs": [
    {
     "name": "stdin",
     "output_type": "stream",
     "text": [
      "Inserisci un numero 10\n"
     ]
    },
    {
     "name": "stdout",
     "output_type": "stream",
     "text": [
      "1\n",
      "2\n",
      "4\n",
      "8\n",
      "16\n",
      "32\n",
      "64\n",
      "128\n",
      "256\n",
      "512\n"
     ]
    }
   ],
   "source": [
    "#4 \n",
    "i=0\n",
    "N=input(\"Inserisci un numero\")\n",
    "N= int(N)\n",
    "while i<N:\n",
    "    print(2**i)\n",
    "    i +=1"
   ]
  },
  {
   "cell_type": "code",
   "execution_count": 13,
   "id": "61eda8e6-e76f-405f-b0fc-b6bcb2d9a38d",
   "metadata": {},
   "outputs": [
    {
     "name": "stdout",
     "output_type": "stream",
     "text": [
      "NON hanno la stessa lunghezza!\n"
     ]
    }
   ],
   "source": [
    "#5\n",
    "studenti=[\"Alex\", \"Bob\", \"Cindy\", \"Dan\", \"Emma\", \"Faith\", \"Frace\", \"Henry\"]\n",
    "corsi= [\"Cybersecurity\", \"Data Analyst\", \"Backend\", \"Frontend\"]\n",
    "if len(studenti)==len(corsi):\n",
    "    print(\"hanno la stessa lunghezza!\")\n",
    "else:\n",
    "    print(\"NON hanno la stessa lunghezza!\")\n",
    "    "
   ]
  },
  {
   "cell_type": "code",
   "execution_count": 23,
   "id": "ddf81b48-e7cd-4ce1-bc84-d61975ef568e",
   "metadata": {},
   "outputs": [
    {
     "name": "stdout",
     "output_type": "stream",
     "text": [
      "['Cybersecurity', 'Data Analyst', 'Backend', 'Frontend', 'Data Analyst', 'Backend', 'Frontend', 'Cybersecurity']\n"
     ]
    }
   ],
   "source": [
    "#6\n",
    "index=0\n",
    "studenti=[\"Alex\", \"Bob\", \"Cindy\", \"Dan\", \"Emma\", \"Faith\", \"Grace\", \"Henry\"]\n",
    "corsi= [\"Cybersecurity\", \"Data Analyst\", \"Backend\", \"Frontend\"]\n",
    "while len(corsi)<len(studenti):\n",
    "    if studenti[index]== \"Emma\":\n",
    "        corsi.append(\"Data Analyst\")\n",
    "    elif studenti[index]== \"Faith\":\n",
    "        corsi.append(\"Backend\")\n",
    "    elif studenti[index]== \"Grace\":\n",
    "        corsi.append(\"Frontend\")\n",
    "    elif studenti[index]== \"Henry\":\n",
    "        corsi.append(\"Cybersecurity\")\n",
    "    index +=1\n",
    "print(corsi)"
   ]
  },
  {
   "cell_type": "code",
   "execution_count": 25,
   "id": "bcefcc98-b7e3-439f-8e5c-eef38367364b",
   "metadata": {},
   "outputs": [
    {
     "name": "stdin",
     "output_type": "stream",
     "text": [
      "Inserisci un numero intero positivo:  5\n"
     ]
    },
    {
     "name": "stdout",
     "output_type": "stream",
     "text": [
      "Il fattoriale è 120\n"
     ]
    }
   ],
   "source": [
    "#8\n",
    "numero = int(input(\"Inserisci un numero intero positivo: \"))\n",
    "\n",
    "if numero < 0:\n",
    "    print(\"Non è possibile calcolare il fattoriale di un numero negativo\")\n",
    "elif numero == 0:\n",
    "    print(\"Per convenzione, il fattoriale di 0! è 1\")\n",
    "else:\n",
    "    fattoriale = 1\n",
    "    while numero > 1:\n",
    "        fattoriale *= numero\n",
    "        numero -= 1\n",
    "print(\"Il fattoriale è\", fattoriale)"
   ]
  },
  {
   "cell_type": "code",
   "execution_count": 36,
   "id": "92ab22ad-5237-4266-83a7-eb8447bc26a5",
   "metadata": {},
   "outputs": [
    {
     "ename": "IndentationError",
     "evalue": "unindent does not match any outer indentation level (<tokenize>, line 8)",
     "output_type": "error",
     "traceback": [
      "\u001b[1;36m  File \u001b[1;32m<tokenize>:8\u001b[1;36m\u001b[0m\n\u001b[1;33m    print(stringaprimi+\"...\"+stringaultimi)\u001b[0m\n\u001b[1;37m    ^\u001b[0m\n\u001b[1;31mIndentationError\u001b[0m\u001b[1;31m:\u001b[0m unindent does not match any outer indentation level\n"
     ]
    }
   ],
   "source": [
    "#7\n",
    "stringa1=str(input(\"Inserisci una stringa: \"))\n",
    "\n",
    "if len(stringa1) >= 6 :\n",
    "      stringaprimi=stringa1[0:3]\n",
    "        stringaultimi=stringa1[-3:]\n",
    "\n",
    "    print(stringaprimi+\"...\"+stringaultimi)\n",
    "      \n",
    "        else:\n",
    "        if len(stringa1)%2 == 0 :\n",
    "            stringaprimi=stringa1[0:2]\n",
    "            stringaultimi=stringa1[-2:]\n",
    "            print(stringaprimi+\"...\"+stringaultimi)\n",
    "            if len(stringa1)%3 == 0:\n",
    "            stringaprimi=stringa1[0:2]\n",
    "            stringaultimi=stringa1[-1:]\n",
    "            print(stringaprimi+\"...\"+stringaultimi)\n",
    "            else:\n",
    "            stringaprimi=stringa1[0:3]\n",
    "            stringaultimi=stringa1[-2:]\n",
    "    print(stringaprimi+\"...\"+stringaultimi)\n",
    "\n"
   ]
  },
  {
   "cell_type": "code",
   "execution_count": null,
   "id": "15664bc5-354d-431a-a8c7-3050a9a75b49",
   "metadata": {},
   "outputs": [],
   "source": []
  }
 ],
 "metadata": {
  "kernelspec": {
   "display_name": "Python 3 (ipykernel)",
   "language": "python",
   "name": "python3"
  },
  "language_info": {
   "codemirror_mode": {
    "name": "ipython",
    "version": 3
   },
   "file_extension": ".py",
   "mimetype": "text/x-python",
   "name": "python",
   "nbconvert_exporter": "python",
   "pygments_lexer": "ipython3",
   "version": "3.10.9"
  }
 },
 "nbformat": 4,
 "nbformat_minor": 5
}
